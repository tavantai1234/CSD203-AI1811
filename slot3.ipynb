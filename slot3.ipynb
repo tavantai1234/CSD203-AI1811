{
 "cells": [
  {
   "cell_type": "code",
   "execution_count": 8,
   "id": "5c9f3047",
   "metadata": {},
   "outputs": [
    {
     "data": {
      "text/plain": [
       "10"
      ]
     },
     "execution_count": 8,
     "metadata": {},
     "output_type": "execute_result"
    }
   ],
   "source": [
    "def find_max(data):\n",
    "    biggest = data[0]\n",
    "    for val in data:\n",
    "        if val > biggest:\n",
    "            biggest = val\n",
    "    return biggest\n",
    "lst = [1,2,3,1,4,5,6,2,8,9,10,5,7]\n",
    "find_max(lst)"
   ]
  },
  {
   "cell_type": "code",
   "execution_count": 15,
   "id": "3dbd1b4c",
   "metadata": {},
   "outputs": [
    {
     "data": {
      "text/plain": [
       "[500.0, 450.0, 500.0]"
      ]
     },
     "execution_count": 15,
     "metadata": {},
     "output_type": "execute_result"
    }
   ],
   "source": [
    "def prefix_average1(S):\n",
    "    n = len(S)\n",
    "    A = [0] * n\n",
    "    for j in range(n):\n",
    "        total = 0\n",
    "        for i in range(j + 1):\n",
    "            total += S[i]\n",
    "        A[j] = total / (j+1)\n",
    "    return A\n",
    "S = [500, 400, 600]\n",
    "prefix_average1(S)"
   ]
  },
  {
   "cell_type": "code",
   "execution_count": null,
   "id": "b3a1249f",
   "metadata": {},
   "outputs": [],
   "source": [
    "def prefix_average3(S):\n",
    "    n = len(S)\n",
    "    A = [0] * n\n",
    "    total = 0\n",
    "    for j in range(n):\n",
    "        total += S[j]\n",
    "        A[j] = total / (j+1)\n",
    "    return A"
   ]
  },
  {
   "cell_type": "code",
   "execution_count": 20,
   "id": "fac9d842",
   "metadata": {
    "scrolled": true
   },
   "outputs": [
    {
     "name": "stdout",
     "output_type": "stream",
     "text": [
      "[1, 5, 4, 7, 10, 15, 23, 12, 14, 11]\n"
     ]
    },
    {
     "ename": "IndexError",
     "evalue": "list index out of range",
     "output_type": "error",
     "traceback": [
      "\u001b[1;31m---------------------------------------------------------------------------\u001b[0m",
      "\u001b[1;31mIndexError\u001b[0m                                Traceback (most recent call last)",
      "Cell \u001b[1;32mIn[20], line 15\u001b[0m\n\u001b[0;32m     13\u001b[0m \u001b[38;5;28mprint\u001b[39m(lst)\n\u001b[0;32m     14\u001b[0m lst\u001b[38;5;241m.\u001b[39msort()\n\u001b[1;32m---> 15\u001b[0m binary_search(lst, \u001b[38;5;241m4\u001b[39m, lst[\u001b[38;5;241m0\u001b[39m], lst[\u001b[38;5;241m-\u001b[39m\u001b[38;5;241m1\u001b[39m])\n",
      "Cell \u001b[1;32mIn[20], line 6\u001b[0m, in \u001b[0;36mbinary_search\u001b[1;34m(data, target, low, high)\u001b[0m\n\u001b[0;32m      4\u001b[0m \u001b[38;5;28;01melse\u001b[39;00m:\n\u001b[0;32m      5\u001b[0m     mid \u001b[38;5;241m=\u001b[39m (low \u001b[38;5;241m+\u001b[39m high)\u001b[38;5;241m/\u001b[39m\u001b[38;5;241m/\u001b[39m\u001b[38;5;241m2\u001b[39m\n\u001b[1;32m----> 6\u001b[0m     \u001b[38;5;28;01mif\u001b[39;00m target \u001b[38;5;241m==\u001b[39m data[mid]:\n\u001b[0;32m      7\u001b[0m         \u001b[38;5;28;01mreturn\u001b[39;00m \u001b[38;5;28;01mTrue\u001b[39;00m\n\u001b[0;32m      8\u001b[0m     \u001b[38;5;28;01melif\u001b[39;00m target \u001b[38;5;241m<\u001b[39m data[mid]:\n",
      "\u001b[1;31mIndexError\u001b[0m: list index out of range"
     ]
    }
   ],
   "source": [
    "def binary_search(data, target, low, high):\n",
    "    if low > high:\n",
    "        return False\n",
    "    else:\n",
    "        mid = (low + high)//2\n",
    "        if target == data[mid]:\n",
    "            return True\n",
    "        elif target < data[mid]:\n",
    "            return binary_search(data, target, low, mid-1)\n",
    "        else:\n",
    "            return binary_search(data, target, mid+1, high)\n",
    "lst = [1, 5, 4, 7, 10, 15, 23, 12, 14,11]\n",
    "print(lst)\n",
    "lst.sort()\n",
    "binary_search(lst, 4, lst[0], lst[-1])"
   ]
  },
  {
   "cell_type": "code",
   "execution_count": 18,
   "id": "69f91818",
   "metadata": {},
   "outputs": [
    {
     "name": "stdout",
     "output_type": "stream",
     "text": [
      "Element is present at index 3\n"
     ]
    }
   ],
   "source": [
    "# Python3 code to implement iterative Binary\n",
    "# Search.\n",
    " \n",
    " \n",
    "# It returns location of x in given array arr\n",
    "def binarySearch(arr, l, r, x):\n",
    " \n",
    "    while l <= r:\n",
    " \n",
    "        mid = l + (r - l) // 2\n",
    " \n",
    "        # Check if x is present at mid\n",
    "        if arr[mid] == x:\n",
    "            return mid\n",
    " \n",
    "        # If x is greater, ignore left half\n",
    "        elif arr[mid] < x:\n",
    "            l = mid + 1\n",
    " \n",
    "        # If x is smaller, ignore right half\n",
    "        else:\n",
    "            r = mid - 1\n",
    " \n",
    "    # If we reach here, then the element\n",
    "    # was not present\n",
    "    return -1\n",
    " \n",
    " \n",
    "# Driver Code\n",
    "if __name__ == '__main__':\n",
    "    arr = [2, 3, 4, 10, 40]\n",
    "    x = 10\n",
    " \n",
    "    # Function call\n",
    "    result = binarySearch(arr, 0, len(arr)-1, x)\n",
    "    if result != -1:\n",
    "        print(\"Element is present at index\", result)\n",
    "    else:\n",
    "        print(\"Element is not present in array\")"
   ]
  }
 ],
 "metadata": {
  "kernelspec": {
   "display_name": "Python 3 (ipykernel)",
   "language": "python",
   "name": "python3"
  },
  "language_info": {
   "codemirror_mode": {
    "name": "ipython",
    "version": 3
   },
   "file_extension": ".py",
   "mimetype": "text/x-python",
   "name": "python",
   "nbconvert_exporter": "python",
   "pygments_lexer": "ipython3",
   "version": "3.11.5"
  }
 },
 "nbformat": 4,
 "nbformat_minor": 5
}
