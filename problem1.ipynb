{
 "cells": [
  {
   "cell_type": "code",
   "execution_count": 32,
   "id": "5778feb9",
   "metadata": {},
   "outputs": [
    {
     "name": "stdout",
     "output_type": "stream",
     "text": [
      "nhap so ban mong muon vao list / end(de ket thuc): 4\n",
      "nhap so ban mong muon vao list / end(de ket thuc): 5\n",
      "nhap so ban mong muon vao list / end(de ket thuc): 6\n",
      "nhap so ban mong muon vao list / end(de ket thuc): 7\n",
      "nhap so ban mong muon vao list / end(de ket thuc): 8\n",
      "nhap so ban mong muon vao list / end(de ket thuc): 9\n",
      "nhap so ban mong muon vao list / end(de ket thuc): end\n",
      "[4, 5, 6, 7, 8, 9]\n",
      "6.5\n",
      "[2.5, 1.5, 0.5, 0.5, 1.5, 2.5]\n",
      "0.5\n",
      "2\n"
     ]
    }
   ],
   "source": [
    "lst = []\n",
    "while True:\n",
    "    x = input(\"nhap so ban mong muon vao list / end(de ket thuc): \")\n",
    "    if x == \"end\":\n",
    "        break\n",
    "    else:\n",
    "        x = int(x)\n",
    "        lst.append(x)\n",
    "print(lst)\n",
    "\n",
    "avr = float(sum(lst)/len(lst))\n",
    "print(avr)\n",
    "\n",
    "nearest = []\n",
    "for i in lst:\n",
    "    nearst = abs(avr-i)\n",
    "    nearest.append(nearst)\n",
    "print(nearest)\n",
    "min_value = min(nearest)\n",
    "print(min_value)\n",
    "indx = nearest.index(min_value)\n",
    "print(indx)"
   ]
  },
  {
   "cell_type": "code",
   "execution_count": null,
   "id": "cf39d752",
   "metadata": {},
   "outputs": [],
   "source": []
  }
 ],
 "metadata": {
  "kernelspec": {
   "display_name": "Python 3 (ipykernel)",
   "language": "python",
   "name": "python3"
  },
  "language_info": {
   "codemirror_mode": {
    "name": "ipython",
    "version": 3
   },
   "file_extension": ".py",
   "mimetype": "text/x-python",
   "name": "python",
   "nbconvert_exporter": "python",
   "pygments_lexer": "ipython3",
   "version": "3.11.5"
  }
 },
 "nbformat": 4,
 "nbformat_minor": 5
}
