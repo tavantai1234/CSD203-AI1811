{
 "cells": [
  {
   "cell_type": "code",
   "execution_count": 14,
   "id": "7d3a0119",
   "metadata": {},
   "outputs": [
    {
     "name": "stdout",
     "output_type": "stream",
     "text": [
      "Nhap vao so ban muon / end (de ket thuc): 1\n",
      "Nhap vao so ban muon / end (de ket thuc): 2\n",
      "Nhap vao so ban muon / end (de ket thuc): 1\n",
      "Nhap vao so ban muon / end (de ket thuc): 2\n",
      "Nhap vao so ban muon / end (de ket thuc): 3\n",
      "Nhap vao so ban muon / end (de ket thuc): 4\n",
      "Nhap vao so ban muon / end (de ket thuc): 4\n",
      "Nhap vao so ban muon / end (de ket thuc): 5\n",
      "Nhap vao so ban muon / end (de ket thuc): 5\n",
      "Nhap vao so ban muon / end (de ket thuc): 6\n",
      "Nhap vao so ban muon / end (de ket thuc): 6\n",
      "Nhap vao so ban muon / end (de ket thuc): end\n",
      "{1, 2, 3, 4, 5, 6}\n",
      "[1, 2, 1, 2, 3, 4, 4, 5, 5, 6, 6]\n"
     ]
    }
   ],
   "source": [
    "lst = []\n",
    "while True:\n",
    "    x = input(\"Nhap vao so ban muon / end (de ket thuc): \")\n",
    "    if x == \"end\":\n",
    "        break\n",
    "    else:\n",
    "        x = int(x)\n",
    "        lst.append(x)\n",
    "unique_set = set(lst)\n",
    "print(unique_set)\n"
   ]
  }
 ],
 "metadata": {
  "kernelspec": {
   "display_name": "Python 3 (ipykernel)",
   "language": "python",
   "name": "python3"
  },
  "language_info": {
   "codemirror_mode": {
    "name": "ipython",
    "version": 3
   },
   "file_extension": ".py",
   "mimetype": "text/x-python",
   "name": "python",
   "nbconvert_exporter": "python",
   "pygments_lexer": "ipython3",
   "version": "3.11.5"
  }
 },
 "nbformat": 4,
 "nbformat_minor": 5
}
