{
 "cells": [
  {
   "cell_type": "code",
   "execution_count": null,
   "id": "d52baaf8",
   "metadata": {},
   "outputs": [],
   "source": [
    "grade = float(input(\"nhap so tu 0-10\"))\n",
    "\n",
    "if grade < 4:\n",
    "    print(\"Diem he chu: F\")\n",
    "    print(\"Diem he 4: 0\")\n",
    "elif grade >=4 and grade <= 5,4:\n",
    "    print(\"Diem he chu: D\")\n",
    "    print(\"Diem he 4: 1\")\n",
    "elif grade >=5.5 and grade <= 6,9:\n",
    "    print(\"Diem he chu: C\")\n",
    "    print(\"Diem he 4: 2\")\n",
    "elif grade >=7 and grade <= 8,4:\n",
    "    print(\"Diem he chu: B\")\n",
    "    print(\"Diem he 4: 3\")\n",
    "elif grade >=8.5 and grade <= 10:\n",
    "    print(\"Diem he chu: A\")\n",
    "    print(\"Diem he 4: 4\")\n"
   ]
  }
 ],
 "metadata": {
  "kernelspec": {
   "display_name": "Python 3 (ipykernel)",
   "language": "python",
   "name": "python3"
  },
  "language_info": {
   "codemirror_mode": {
    "name": "ipython",
    "version": 3
   },
   "file_extension": ".py",
   "mimetype": "text/x-python",
   "name": "python",
   "nbconvert_exporter": "python",
   "pygments_lexer": "ipython3",
   "version": "3.11.5"
  }
 },
 "nbformat": 4,
 "nbformat_minor": 5
}
